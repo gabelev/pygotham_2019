{
 "cells": [
  {
   "cell_type": "code",
   "execution_count": null,
   "metadata": {
    "colab": {
     "base_uri": "https://localhost:8080/",
     "height": 170
    },
    "colab_type": "code",
    "id": "Km7twBRAxqi-",
    "outputId": "435bcb63-fb95-4447-b45e-f353d241e22f"
   },
   "outputs": [],
   "source": [
    "# %%capture\n",
    "!pip install --upgrade pip\n",
    "!pip install tensorflow-datasets"
   ]
  },
  {
   "cell_type": "code",
   "execution_count": null,
   "metadata": {},
   "outputs": [],
   "source": [
    "import tensorflow as tf\n",
    "import tensorflow_datasets as tfds\n",
    "import numpy as np"
   ]
  },
  {
   "cell_type": "code",
   "execution_count": null,
   "metadata": {
    "colab": {
     "base_uri": "https://localhost:8080/",
     "height": 54
    },
    "colab_type": "code",
    "id": "KJfhINgVyNSt",
    "outputId": "20ab35a4-e385-46c6-c509-5cfed48f3d36"
   },
   "outputs": [],
   "source": [
    "# tfds works in both Eager and Graph modes\n",
    "tf.enable_eager_execution()\n",
    "\n",
    "# See available datasets\n",
    "print(tfds.list_builders())"
   ]
  },
  {
   "cell_type": "code",
   "execution_count": null,
   "metadata": {
    "colab": {
     "base_uri": "https://localhost:8080/",
     "height": 88
    },
    "colab_type": "code",
    "id": "-nWqETtRy5U-",
    "outputId": "343f326d-48fd-4bb9-e52a-2fb59ac75f59"
   },
   "outputs": [],
   "source": [
    "# Construct a tf.data.Dataset\n",
    "dataset = tfds.load(name=\"higgs\")"
   ]
  },
  {
   "cell_type": "code",
   "execution_count": null,
   "metadata": {},
   "outputs": [],
   "source": [
    "dataset.descibe()"
   ]
  },
  {
   "cell_type": "code",
   "execution_count": 4,
   "metadata": {},
   "outputs": [],
   "source": [
    "# # Fetch the dataset directly\n",
    "# mnist = tfds.image.MNIST()\n",
    "\n",
    "# # Describe the dataset with DatasetInfo\n",
    "# assert mnist.info.features['image'].shape == (28, 28, 1)\n",
    "# assert mnist.info.features['label'].num_classes == 10\n",
    "# assert mnist.info.splits['train'].num_examples == 60000\n",
    "\n",
    "# # Download the data, prepare it, and write it to disk\n",
    "# mnist.download_and_prepare()"
   ]
  },
  {
   "cell_type": "code",
   "execution_count": 5,
   "metadata": {},
   "outputs": [
    {
     "name": "stderr",
     "output_type": "stream",
     "text": [
      "WARNING:absl:Warning: Setting shuffle_files=True because split=TRAIN and shuffle_files=None. This behavior will be deprecated on 2019-08-06, at which point shuffle_files=False will be the default for all splits.\n"
     ]
    }
   ],
   "source": [
    "# # Load data from disk as tf.data.Datasets\n",
    "# datasets = mnist.as_dataset()\n",
    "# train_dataset, test_dataset = datasets['train'], datasets['test']\n",
    "# # assert isinstance(train_dataset, tf.data.Dataset)"
   ]
  },
  {
   "cell_type": "code",
   "execution_count": 6,
   "metadata": {},
   "outputs": [],
   "source": [
    "# # And convert the Dataset to NumPy arrays\n",
    "# for example in tfds.as_numpy(train_dataset):\n",
    "#     image, label = example['image'], example['label']\n"
   ]
  },
  {
   "cell_type": "code",
   "execution_count": null,
   "metadata": {},
   "outputs": [],
   "source": []
  }
 ],
 "metadata": {
  "colab": {
   "include_colab_link": true,
   "name": "higgs_base.ipynb",
   "provenance": [],
   "version": "0.3.2"
  },
  "kernelspec": {
   "display_name": "conda_tensorflow_p36",
   "language": "python",
   "name": "conda_tensorflow_p36"
  },
  "language_info": {
   "codemirror_mode": {
    "name": "ipython",
    "version": 3
   },
   "file_extension": ".py",
   "mimetype": "text/x-python",
   "name": "python",
   "nbconvert_exporter": "python",
   "pygments_lexer": "ipython3",
   "version": "3.7.4"
  }
 },
 "nbformat": 4,
 "nbformat_minor": 4
}
